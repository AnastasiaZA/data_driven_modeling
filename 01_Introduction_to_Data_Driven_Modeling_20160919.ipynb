{
 "cells": [
  {
   "cell_type": "markdown",
   "metadata": {},
   "source": [
    "# Data Driven Modeling\n",
    "<hr style=\"height:3px;border:none;color:stillblue;background-color:black;\" />\n",
    "### PhD seminar series at Chair for Computer Aided Architectural Design (CAAD), ETH Zurich\n",
    "\n",
    "\n",
    "###### <a href=https://vahidmoosavi.com/> Vahid Moosavi </a>\n",
    "<hr style=\"height:1px;border:none;color:stillblue;background-color:black;\" />"
   ]
  },
  {
   "cell_type": "markdown",
   "metadata": {},
   "source": [
    "<a></a>\n",
    "\n",
    "# First Session: Introduction \n",
    "<hr style=\"height:1px;border:none;color:stillblue;background-color:steelblue;\" />\n",
    "<hr style=\"height:1px;border:none;color:stillblue;background-color:black;\" />\n",
    "\n",
    "<span style=\"color:steelblue;font-size: 1em;\"> 20th Semptember 2016</span>"
   ]
  },
  {
   "cell_type": "markdown",
   "metadata": {},
   "source": [
    "### <a></a>\n",
    "<hr style=\"height:3px;border:none;color:stillblue;background-color:black;\" />\n",
    "## The general set up:\n",
    "### What is the purpose of these seminars? \n",
    "### What are the expectations from designers and architects?\n",
    "### How to doemsticate these new computational capacities into the realm of design or how to re-define design?"
   ]
  },
  {
   "cell_type": "markdown",
   "metadata": {},
   "source": [
    "### <a></a>\n",
    "<hr style=\"height:3px;border:none;color:stillblue;background-color:black;\" />\n",
    "### What do we mean by modeling? and Why we need to model things? \n",
    "\n",
    "* **generalization**\n",
    "* **formalization**\n",
    "* **control**\n",
    "* **ultimately to communicate**\n",
    "* **what else?**\n",
    "### <a></a>\n"
   ]
  },
  {
   "cell_type": "markdown",
   "metadata": {},
   "source": [
    "## A formalism for the modeling process\n",
    "<a></a>\n",
    "<img src=\"files/Images/RosenModel.png\"width =700, height=700/>\n",
    "### <a></a>\n",
    "### Main Tasks in Modeling\n",
    "#### Prediction/Classification\n",
    "#### Identification of relationships\n",
    "#### finding important aspects in relation to the target\n",
    "#### pattern recoginition\n",
    "#### etc."
   ]
  },
  {
   "cell_type": "markdown",
   "metadata": {},
   "source": [
    "### <a></a>\n",
    "### There have been diffrent approaches for the notion of modeling\n",
    "### But different approaches have limits in different levels of complexity\n",
    "<img src=\"files/Images/Model_Coplexity.jpg\"width =700, height=700/>\n"
   ]
  },
  {
   "cell_type": "markdown",
   "metadata": {},
   "source": [
    "## But it has been always like that\n",
    "### Life and death of computational (Urban) modeling concepts\n",
    "<img src=\"files/Images/ngrams3.png\"width =900, height=1400/>"
   ]
  },
  {
   "cell_type": "markdown",
   "metadata": {},
   "source": [
    "### And if we follow the trends ---> Nowadays Big Data! \n",
    "\n",
    "#### <center>Google Trends</center>\n",
    "<img src=\"files/Images/GoogleTrends.png\"width =600, height=400/>"
   ]
  },
  {
   "cell_type": "markdown",
   "metadata": {},
   "source": [
    "\n",
    "<a></a>\n",
    "## And if we look at the undelrying mechansims\n",
    "#### A historical view to computational modeling and advent of Big Data\n",
    "<img src=\"files/Images/Computational Capacities.png\"width =700, height=700/>\n"
   ]
  },
  {
   "cell_type": "markdown",
   "metadata": {},
   "source": [
    "## Some examples\n",
    "* Analytical\n",
    "* Many of classical physics equations\n",
    "* Newton's Law of Motion\n",
    "    * F=MA \n",
    "\n",
    "<img src=\"files/Images/NewtonSLaw.svg\"width =200, height=200/>\n",
    "### <a></a>\n",
    "\n",
    "* Centralized simulation models \n",
    "    * Chaotic systems (Lorenz systems example)\n",
    "    * N-body problems in systems biology\n",
    "* Decentralized simulation models\n",
    "    * Agent Based models in transportations\n",
    "    * Cellular automata"
   ]
  },
  {
   "cell_type": "markdown",
   "metadata": {
    "collapsed": true
   },
   "source": [
    "# An Example of unpredictable determinism: Lorenz Systems"
   ]
  },
  {
   "cell_type": "code",
   "execution_count": 48,
   "metadata": {
    "collapsed": false
   },
   "outputs": [],
   "source": [
    "#Code from: https://jakevdp.github.io/blog/2013/02/16/animating-the-lorentz-system-in-3d/\n",
    "\n",
    "\n",
    "# import numpy as np\n",
    "# from scipy import integrate\n",
    "\n",
    "# # Note: t0 is required for the odeint function, though it's not used here.\n",
    "# def lorentz_deriv((x, y, z), t0, sigma=10., beta=8./3, rho=28.0):\n",
    "#     \"\"\"Compute the time-derivative of a Lorenz system.\"\"\"\n",
    "#     return [sigma * (y - x), x * (rho - z) - y, x * y - beta * z]\n",
    "\n",
    "# x0 = [1, 1, 1]  # starting vector\n",
    "# t = np.linspace(0, 3, 1000)  # one thousand time steps\n",
    "# x_t = integrate.odeint(lorentz_deriv, x0, t)\n",
    "\n",
    "\n",
    "\n",
    "\n",
    "\n",
    "import numpy as np\n",
    "from scipy import integrate\n",
    "\n",
    "from matplotlib import pyplot as plt\n",
    "from mpl_toolkits.mplot3d import Axes3D\n",
    "from matplotlib.colors import cnames\n",
    "from matplotlib import animation\n",
    "%matplotlib inline\n",
    "N_trajectories = 20\n",
    "\n",
    "\n",
    "#dx/dt = sigma(y-x)\n",
    "#dy/dt = x(rho-z)-y\n",
    "#dz/dt = xy-beta*z\n",
    "\n",
    "def lorentz_deriv((x, y, z), t0, sigma=10., beta=8./3, rho=28.0):\n",
    "    \"\"\"Compute the time-derivative of a Lorentz system.\"\"\"\n",
    "    return [sigma * (y - x), x * (rho - z) - y, x * y - beta * z]\n",
    "\n",
    "\n",
    "# Choose random starting points, uniformly distributed from -15 to 15\n",
    "np.random.seed(1)\n",
    "x0 = -15 + 30 * np.random.random((N_trajectories, 3))\n",
    "\n",
    "# Solve for the trajectories\n",
    "t = np.linspace(0, 7, 1000)\n",
    "x_t = np.asarray([integrate.odeint(lorentz_deriv, x0i, t)\n",
    "                  for x0i in x0])\n",
    "\n",
    "# Set up figure & 3D axis for animation\n",
    "fig = plt.figure()\n",
    "ax = fig.add_axes([0, 0, 1, 1], projection='3d')\n",
    "ax.axis('off')\n",
    "plt.set_cmap(plt.cm.YlOrRd_r)\n",
    "plt.set_cmap(plt.cm.hot)\n",
    "# choose a different color for each trajectory\n",
    "colors = plt.cm.jet(np.linspace(0, 1, N_trajectories))\n",
    "\n",
    "# set up lines and points\n",
    "lines = sum([ax.plot([], [], [], '-', c=c)\n",
    "             for c in colors], [])\n",
    "pts = sum([ax.plot([], [], [], 'o', c=c)\n",
    "           for c in colors], [])\n",
    "\n",
    "# prepare the axes limits\n",
    "ax.set_xlim((-25, 25))\n",
    "ax.set_ylim((-35, 35))\n",
    "ax.set_zlim((5, 55))\n",
    "\n",
    "# set point-of-view: specified by (altitude degrees, azimuth degrees)\n",
    "ax.view_init(30, 0)\n",
    "\n",
    "# initialization function: plot the background of each frame\n",
    "def init():\n",
    "    for line, pt in zip(lines, pts):\n",
    "        line.set_data([], [])\n",
    "        line.set_3d_properties([])\n",
    "\n",
    "        pt.set_data([], [])\n",
    "        pt.set_3d_properties([])\n",
    "    return lines + pts\n",
    "\n",
    "# animation function.  This will be called sequentially with the frame number\n",
    "def animate(i):\n",
    "    # we'll step two time-steps per frame.  This leads to nice results.\n",
    "    i = (2 * i) % x_t.shape[1]\n",
    "\n",
    "    for line, pt, xi in zip(lines, pts, x_t):\n",
    "        x, y, z = xi[:i].T\n",
    "        line.set_data(x, y)\n",
    "        line.set_3d_properties(z)\n",
    "\n",
    "        pt.set_data(x[-1:], y[-1:])\n",
    "        pt.set_3d_properties(z[-1:])\n",
    "\n",
    "    ax.view_init(30, 0.3 * i)\n",
    "    fig.canvas.draw()\n",
    "    return lines + pts\n",
    "\n",
    "# instantiate the animator.\n",
    "anim = animation.FuncAnimation(fig, animate, init_func=init,\n",
    "                               frames=500, interval=10, blit=True)\n",
    "\n",
    "# Save as mp4. This requires mplayer or ffmpeg to be installed\n",
    "anim.save('./Images/lorentz_attractor.mp4', fps=15, extra_args=['-vcodec', 'libx264'],dpi=200)\n",
    "\n",
    "plt.close()"
   ]
  },
  {
   "cell_type": "code",
   "execution_count": 49,
   "metadata": {
    "collapsed": false
   },
   "outputs": [
    {
     "data": {
      "text/html": [
       "\n",
       "<video width=\"600\" height=\"400\" controls>\n",
       "  <source src=\"files/Images/lorentz_attractor.mp4\" type=\"video/mp4\">\n",
       "</video>\n"
      ],
      "text/plain": [
       "<IPython.core.display.HTML object>"
      ]
     },
     "execution_count": 49,
     "metadata": {},
     "output_type": "execute_result"
    }
   ],
   "source": [
    "from IPython.display import HTML\n",
    "HTML(\"\"\"\n",
    "<video width=\"600\" height=\"400\" controls>\n",
    "  <source src=\"files/Images/lorentz_attractor.mp4\" type=\"video/mp4\">\n",
    "</video>\n",
    "\"\"\")"
   ]
  },
  {
   "cell_type": "markdown",
   "metadata": {},
   "source": [
    "\n",
    "# A major shift: \n",
    "# Knowing Vs. Learning (Theory Driven Vs. Data Driven)  Beyond domain expertism\n",
    "\n",
    "### <a></a>\n",
    "## <center>The primary role of Data in Data Driven Modeling</center>\n",
    "### <a></a>\n",
    "<img src=\"files/Images/TheoryDrivenDataDriven.png\"width =800, height=800/>\n",
    "### <a></a>\n",
    "\n",
    "\n",
    "\n",
    "\n",
    "### <a></a>\n",
    "### <center>Toward a new level of abstraction</center>\n",
    "<img src=\"files/Images/Model_Coplexity.jpg\"width =500, height=500/>\n",
    "\n",
    "\n",
    "### <a></a>\n",
    "# <center>Theory Driven models get complicated even with Data</center>\n",
    "### <center>An example in urban transport modeling</center>\n",
    "<img src=\"files/Images/MATSIM.png\"width =800, height=800/>\n",
    "\n",
    "\n",
    "\n"
   ]
  },
  {
   "cell_type": "markdown",
   "metadata": {},
   "source": [
    "### <a></a>\n",
    "# <center>But now we have new capacities</center>\n",
    "## An inversion in the role of data in the process of modeling\n",
    "### <a></a>\n",
    "<img src=\"files/Images/InversionLondon.png\"width =800, height=500/>\n",
    "### <a></a>"
   ]
  },
  {
   "cell_type": "code",
   "execution_count": 10,
   "metadata": {
    "collapsed": false
   },
   "outputs": [
    {
     "data": {
      "image/jpeg": "[encoded data removed]",
      "text/html": [
       "\n",
       "        <iframe\n",
       "            width=\"700\"\n",
       "            height=\"600\"\n",
       "            src=\"https://www.youtube.com/embed/0aQxJgHknGs\"\n",
       "            frameborder=\"0\"\n",
       "            allowfullscreen\n",
       "        ></iframe>\n",
       "        "
      ],
      "text/plain": [
       "<IPython.lib.display.YouTubeVideo at 0x106f47ad0>"
      ]
     },
     "execution_count": 10,
     "metadata": {},
     "output_type": "execute_result"
    }
   ],
   "source": [
    "from IPython.display import YouTubeVideo\n",
    "YouTubeVideo('0aQxJgHknGs',width=700, height=600)"
   ]
  },
  {
   "cell_type": "code",
   "execution_count": 4,
   "metadata": {
    "collapsed": false
   },
   "outputs": [
    {
     "data": {
      "image/jpeg": "[encoded data removed]",
      "text/html": [
       "\n",
       "        <iframe\n",
       "            width=\"700\"\n",
       "            height=\"600\"\n",
       "            src=\"https://www.youtube.com/embed/VQ1f312SVqg\"\n",
       "            frameborder=\"0\"\n",
       "            allowfullscreen\n",
       "        ></iframe>\n",
       "        "
      ],
      "text/plain": [
       "<IPython.lib.display.YouTubeVideo at 0x106f47d50>"
      ]
     },
     "execution_count": 4,
     "metadata": {},
     "output_type": "execute_result"
    }
   ],
   "source": [
    "from IPython.display import YouTubeVideo\n",
    "YouTubeVideo('VQ1f312SVqg',width=700, height=600)"
   ]
  },
  {
   "cell_type": "code",
   "execution_count": 5,
   "metadata": {
    "collapsed": false
   },
   "outputs": [
    {
     "data": {
      "image/jpeg": "[encoded data removed]",
      "text/html": [
       "\n",
       "        <iframe\n",
       "            width=\"700\"\n",
       "            height=\"600\"\n",
       "            src=\"https://www.youtube.com/embed/D6XTyLbO13w\"\n",
       "            frameborder=\"0\"\n",
       "            allowfullscreen\n",
       "        ></iframe>\n",
       "        "
      ],
      "text/plain": [
       "<IPython.lib.display.YouTubeVideo at 0x106f47590>"
      ]
     },
     "execution_count": 5,
     "metadata": {},
     "output_type": "execute_result"
    }
   ],
   "source": [
    "from IPython.display import YouTubeVideo\n",
    "YouTubeVideo('D6XTyLbO13w',width=700, height=600)"
   ]
  },
  {
   "cell_type": "markdown",
   "metadata": {},
   "source": [
    "## But really how to use this data?\n",
    "#### 1. Info-graphics or just real time visualizations!!\n",
    "#### 2. Data analytics in a real time or a large scale fashion! (80% of Big Data community)\n",
    "#### 3. Looking seriously for universal laws in complex Systems? (Natural models in community of physicists)\n",
    "#### 4. Optimizing the parametric set up of rational models? (rational Models) ---> Very common in engineering thesedays\n",
    "#### 5. Or a new level of data-driven models in coexistence with urban data streams **(Pre-specifics)**\n"
   ]
  },
  {
   "cell_type": "markdown",
   "metadata": {},
   "source": [
    "## Now assuming data is available WHAT should we learn for Data Driven Modeling? \n",
    "\n",
    "<img src=\"files/Images/DataDrivenModelingElements.png\"width =600, height=600/>\n"
   ]
  },
  {
   "cell_type": "markdown",
   "metadata": {
    "collapsed": true
   },
   "source": [
    "# But HOW to learn them?\n",
    "## Resource Based --> Forward but slow and might take a BSc.\n",
    "## Market Oriented --> Backward, might work, but mostly we get simply puzzled\n",
    "## Connecting the dots in a guided path --- Wiki-based approach\n"
   ]
  },
  {
   "cell_type": "markdown",
   "metadata": {},
   "source": [
    "<a></a>\n",
    "<img src=\"files/Images/DataDrivenModelingKW.png\"width =600, height=600/>"
   ]
  },
  {
   "cell_type": "markdown",
   "metadata": {},
   "source": [
    "### Topics to be discussed (Not in the order of sessions)  \n",
    "* This list will be updated over time.\n",
    "* All the topics will be discussed with codes in Python\n",
    "\n",
    "**Probability Theory**\n",
    "* Certainty and Determinism\n",
    "* Laplace’s demon\n",
    "* Poncare and the end of determinism\n",
    "* Deterministic Unpredictability (Chaos Theory and Bifurcation)\n",
    "* Uncertainty and Randomness\n",
    "* Fuzziness, vagueness and ambiguity\n",
    "* Variable and Parameter\n",
    "* Random Variable\n",
    "* Probability (Kolmogrov) axioms\n",
    "* Probability distributions\n",
    "* Expected Value\n",
    "* Variance\n",
    "* Covariance\n",
    "* Independent Random Variables \n",
    "* Joint Probability \n",
    "* Baysian Rules and Conditional Probability\n",
    "\n",
    "**Statistics**\n",
    "* Central Limit Theorem (CLT)\n",
    "* Law of large numbers\n",
    "* Statistical Measures \n",
    "    * Mean, Median, Standard Deviation, Skewness, Lp norms\n",
    "* Outliers \n",
    "* histograms\n",
    "* Kernel Density Estimation\n",
    "* Bias Vs. Variance\n",
    "* Accuracy Vs. Precision\n",
    "* Hypothesis Testing\n",
    "* Causality and Correlations\n",
    "* Random Walk\n",
    "* Brownian motion \n",
    "* Resampling\n",
    "* Non-parametric Statistics \n",
    "\n",
    "**Statistical Learning**\n",
    "* Least Square method \n",
    "* Maximum Likelihood Estimation\n",
    "* Regression models and curve fitting using polynomials\n",
    "* Structure Learning in comparison to Polynomials\n",
    "* Regularized Models\n",
    "* Learning densities vs. designed densities\n",
    "* Learning kernels vs. designed Kernels\n",
    "* Learning Dictionaries vs. designed Dictionaries\n",
    "* Over Fitting and generalization\n",
    "* Probabilistic Graphical Models\n",
    "* Quality Measures: Validation, Precision/Recall and other terms\n",
    "* Markov chains and stochastic processes\n",
    "* Baysian Networks\n",
    "\n",
    "**Linear Algebra**\n",
    "* Points,Vectors and Matrices\n",
    "* Matrix operations\n",
    "* Algebraic Operations\n",
    "* Systems of Linear Equations\n",
    "* Similarity and distances between vectors\n",
    "* Euclidean, Hamming, Mahalanobis, Hausdorff\n",
    "* Linear Transformations: PCA, ICA\n",
    "* Markov Chains\n",
    "* Fourier Transformation\n",
    "* Dictionary Learning, Sparse coding\n",
    "\n",
    "\n",
    "**Optimization**\n",
    "* Objective function\n",
    "* Exact Methods\n",
    "* Linear Programming\n",
    "* Complexity\n",
    "* Approximate Methods\n",
    "* Gradient Descent\n",
    "* Hill climbing methods\n",
    "* Meta Heuristics\n",
    "\n",
    "\n",
    "**Machine Learning**\n",
    "* Supervised Learning\n",
    "* Unsupervised Learning\n",
    "* Reinforcement Learning\n",
    "* Classification\n",
    "* Clustering and pattern recognition\n",
    "* Prediction\n",
    "* Function approximation\n",
    "* Feature selection/extraction\n",
    "* Transfer Function\n",
    "* Dimensionality reduction\n",
    "* Manifold learning\n",
    "* Decision trees\n",
    "* Naïve Base classifier\n",
    "* Ensemble methods\n",
    "* Support Vector Machines (SVM)\n",
    "* **Self Organizing Maps (SOM)** \n",
    "* Structured Prediction and Random fields\n",
    "* Kernels and Kernel learning: in Image processing examples \n",
    "* Energy Based Models \n",
    "* Dictionary Learning\n",
    "* Autoencoders\n",
    "* Deep Learning \n",
    "\n"
   ]
  },
  {
   "cell_type": "code",
   "execution_count": null,
   "metadata": {
    "collapsed": true
   },
   "outputs": [],
   "source": []
  }
 ],
 "metadata": {
  "anaconda-cloud": {},
  "kernelspec": {
   "display_name": "Python [default]",
   "language": "python",
   "name": "python2"
  },
  "language_info": {
   "codemirror_mode": {
    "name": "ipython",
    "version": 2
   },
   "file_extension": ".py",
   "mimetype": "text/x-python",
   "name": "python",
   "nbconvert_exporter": "python",
   "pygments_lexer": "ipython2",
   "version": "2.7.13"
  }
 },
 "nbformat": 4,
 "nbformat_minor": 0
}
